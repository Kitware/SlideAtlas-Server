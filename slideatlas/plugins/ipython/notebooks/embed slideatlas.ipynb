{
 "metadata": {
  "name": "",
  "signature": "sha256:94f67cca1cdc611b145131b74b2f39726c4ebdbfcb18396cbf0dd9dbef851a63"
 },
 "nbformat": 3,
 "nbformat_minor": 0,
 "worksheets": [
  {
   "cells": [
    {
     "cell_type": "code",
     "collapsed": false,
     "input": [
      "# Basic routines to display numpy array as image\n",
      "from io import BytesIO\n",
      "import PIL.Image as PILImage \n",
      "from IPython.display import display\n",
      "from IPython.display import Image as displayImage\n",
      "import cv2\n",
      "import numpy as np\n",
      "from ipython_slideatlas import display_img_array\n"
     ],
     "language": "python",
     "metadata": {},
     "outputs": []
    },
    {
     "cell_type": "code",
     "collapsed": false,
     "input": [
      "scale = 15\n",
      "delta = 0\n",
      "kernel_size = 5\n",
      "blur_scale = 5\n",
      "blur = False\n",
      "\n",
      "ddepth = cv2.CV_16S\n",
      "\n",
      "\n",
      "inp = cv2.imread('/home/dhan/Downloads/muscle_matrix.png')\n",
      "assert inp is not None \n",
      "if blur:\n",
      "    img = cv2.GaussianBlur(img,(blur_scale,blur_scale),0)\n",
      "    "
     ],
     "language": "python",
     "metadata": {},
     "outputs": []
    },
    {
     "cell_type": "code",
     "collapsed": false,
     "input": [
      "display_img_array(inp)\n",
      "gray = cv2.cvtColor(inp,cv2.COLOR_BGR2GRAY)\n",
      "\n",
      "# Gradient-X\n",
      "grad_x = cv2.Sobel(gray,ddepth,1,0,ksize = kernel_size, scale = scale, delta = delta,borderType = cv2.BORDER_DEFAULT)\n",
      "#grad_x = cv2.Scharr(gray,ddepth,1,0)\n",
      "\n",
      "# Gradient-Y\n",
      "grad_y = cv2.Sobel(gray,ddepth,0,1,ksize = kernel_size, scale = scale, delta = delta, borderType = cv2.BORDER_DEFAULT)\n",
      "#grad_y = cv2.Scharr(gray,ddepth,0,1)\n",
      "from numpy import square, sqrt\n",
      "import numpy\n",
      "\n",
      "def gamma_correction(img, correction):\n",
      "    img = img/255.0\n",
      "    img = cv2.pow(img, correction)\n",
      "    return np.uint8(img*255)\n",
      "\n",
      "grad_x = grad_x.astype(numpy.float32)\n",
      "grad_y = grad_y.astype(numpy.float32)\n",
      "\n",
      "data = sqrt(grad_x * grad_x + grad_y * grad_y)\n",
      "#data\n",
      "# Try gamma correction\n",
      "rescaled = (255.0 / data.max() * (data - data.min()))\n",
      "#gamma = gamma_correction(rescaled, 0.5)\n",
      "display_img_array(rescaled)\n",
      "from math import atan2\n",
      "#print grad_x.shape\n",
      "orientation = numpy.arctan(grad_x, grad_y)\n",
      "#print orientation.size\n",
      "hue = (128.0 / orientation.max() * (orientation - orientation.min()))\n",
      "# print type(hue)\n",
      "# saturation = numpy.array(hue.shape)\n",
      "saturation = numpy.full(hue.shape, 230)\n",
      "value = rescaled\n",
      "img = numpy.dstack((hue,saturation, value))\n",
      "img2 = img.astype(numpy.uint8)\n",
      "img3 = cv2.cvtColor(img2, cv2.COLOR_HSV2RGB)\n",
      "display_img_array(img3)"
     ],
     "language": "python",
     "metadata": {},
     "outputs": []
    },
    {
     "cell_type": "code",
     "collapsed": false,
     "input": [],
     "language": "python",
     "metadata": {},
     "outputs": []
    }
   ],
   "metadata": {}
  }
 ]
}