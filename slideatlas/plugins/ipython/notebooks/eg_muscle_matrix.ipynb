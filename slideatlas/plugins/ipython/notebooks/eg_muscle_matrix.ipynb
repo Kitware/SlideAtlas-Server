{
 "metadata": {
  "name": "",
  "signature": "sha256:01338fe3daa935f54bb528da2da14475d0a2e9972e2259fc4dda4d89446568f3"
 },
 "nbformat": 3,
 "nbformat_minor": 0,
 "worksheets": [
  {
   "cells": [
    {
     "cell_type": "code",
     "collapsed": false,
     "input": [
      "# Basic routines to display numpy array as image\n",
      "from io import BytesIO\n",
      "import PIL.Image as PILImage \n",
      "from IPython.display import display\n",
      "from IPython.display import Image as displayImage\n",
      "import cv2\n",
      "import numpy as np\n",
      "from ipython_slideatlas import *\n",
      "# from analysis_examples import analyze_orientation"
     ],
     "language": "python",
     "metadata": {},
     "outputs": []
    },
    {
     "cell_type": "code",
     "collapsed": false,
     "input": [
      "slideatlas_load(\"http://new.slide-atlas.org/\", scale=0.5)"
     ],
     "language": "python",
     "metadata": {},
     "outputs": []
    },
    {
     "cell_type": "code",
     "collapsed": false,
     "input": [
      "def analyze_orientations(inp=None, scale=15, delta=0, kernel_size=5, blur=True, blur_scale=5):\n",
      "    \"\"\"\n",
      "    @param: inp Input image. If supplied must be a PIL Image, else tries to load a default  \n",
      "    @param: scale Scale for Sobel filter (default 15)\n",
      "    @param: delta Delta for Sobel filter (default 0)\n",
      "    @param: kernel_size Kernel size for Sobel filter (default 5)\n",
      "    @param: blur Whether to perform optional Gaussian bluring of the input image before processing (default True)\n",
      "    @param: blur_scale Scale for blurring if blurring is enabled (default 5)\n",
      "    \n",
      "    \"\"\"\n",
      "    # Convert incoming PIL image to opencv image\n",
      "    if inp is None:\n",
      "        inp = cv2.imread('/home/dhan/Downloads/muscle_matrix.png')\n",
      "    else:\n",
      "        inp = np.array(inp)\n",
      "        \n",
      "    assert inp is not None \n",
      "\n",
      "    # data type \n",
      "    ddepth = cv2.CV_16S\n",
      "\n",
      "\n",
      "    # \n",
      "    if blur:\n",
      "        img = cv2.GaussianBlur(inp,(blur_scale,blur_scale),0)\n",
      "    else:\n",
      "        img = inp\n",
      "    \n",
      "    gray = cv2.cvtColor(img,cv2.COLOR_BGR2GRAY)\n",
      "\n",
      "    # Gradient-X\n",
      "    grad_x = cv2.Sobel(gray,ddepth,1,0,ksize = kernel_size, scale = scale, delta = delta,borderType = cv2.BORDER_DEFAULT)\n",
      "    #grad_x = cv2.Scharr(gray,ddepth,1,0)\n",
      "\n",
      "    # Gradient-Y\n",
      "    grad_y = cv2.Sobel(gray,ddepth,0,1,ksize = kernel_size, scale = scale, delta = delta, borderType = cv2.BORDER_DEFAULT)\n",
      "    #grad_y = cv2.Scharr(gray,ddepth,0,1)\n",
      "    from numpy import square, sqrt\n",
      "    import numpy\n",
      "\n",
      "    def gamma_correction(img, correction):\n",
      "        img = img/255.0\n",
      "        img = cv2.pow(img, correction)\n",
      "        return np.uint8(img*255)\n",
      "\n",
      "    grad_x = grad_x.astype(numpy.float32)\n",
      "    grad_y = grad_y.astype(numpy.float32)\n",
      "\n",
      "    data = sqrt(grad_x * grad_x + grad_y * grad_y)\n",
      "    #data\n",
      "    # Try gamma correction\n",
      "    rescaled = (255.0 / data.max() * (data - data.min()))\n",
      "    #gamma = gamma_correction(rescaled, 0.5)\n",
      "    from math import atan2\n",
      "    #print grad_x.shape\n",
      "    orientation = numpy.arctan(grad_x, grad_y)\n",
      "    #print orientation.size\n",
      "    hue = (128.0 / orientation.max() * (orientation - orientation.min()))\n",
      "    # print type(hue)\n",
      "    # saturation = numpy.array(hue.shape)\n",
      "    saturation = numpy.full(hue.shape, 230)\n",
      "    value = rescaled\n",
      "    img1 = numpy.dstack((hue,saturation, value))\n",
      "    img2 = img1.astype(numpy.uint8)\n",
      "    img3 = cv2.cvtColor(img2, cv2.COLOR_HSV2RGB)\n",
      "    display_img_array(img3)\n",
      "    display_img_array(inp)\n",
      "    if blur:\n",
      "        display_img_array(img)\n",
      "\n",
      "    display_img_array(rescaled)\n"
     ],
     "language": "python",
     "metadata": {},
     "outputs": []
    },
    {
     "cell_type": "code",
     "collapsed": false,
     "input": [
      "analyze_orientations(current_view, scale=11)"
     ],
     "language": "python",
     "metadata": {},
     "outputs": []
    },
    {
     "cell_type": "code",
     "collapsed": false,
     "input": [
      "# Sample image is saved from \n",
      "# http://cs-www.cs.yale.edu/homes/shahar/Images/Research/TextureFlow/TrickyNothdurftSquare.gif \n",
      "\n",
      "pattern = Image.open(\"/home/dhan/Downloads/pattern2.png\")\n",
      "analyze_orientations(pattern)"
     ],
     "language": "python",
     "metadata": {},
     "outputs": []
    }
   ],
   "metadata": {}
  }
 ]
}