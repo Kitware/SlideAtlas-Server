{
 "metadata": {
  "name": "",
  "signature": "sha256:f9668d0f91cd4a6cd8eb8a599dd8ecc9dbb1514e71b1f58bfc8639e30a9c788b"
 },
 "nbformat": 3,
 "nbformat_minor": 0,
 "worksheets": [
  {
   "cells": [
    {
     "cell_type": "code",
     "collapsed": false,
     "input": [
      "from ipython_slideatlas import *\n",
      "slideatlas_load(\"http://new.slide-atlas.org/\", scale=0.5)"
     ],
     "language": "python",
     "metadata": {},
     "outputs": []
    },
    {
     "cell_type": "code",
     "collapsed": false,
     "input": [
      "current_view"
     ],
     "language": "python",
     "metadata": {},
     "outputs": []
    },
    {
     "cell_type": "code",
     "collapsed": false,
     "input": [
      "# Sample image is saved from \n",
      "# http://cs-www.cs.yale.edu/homes/shahar/Images/Research/TextureFlow/TrickyNothdurftSquare.gif \n",
      "from analysis_tools import analyze_orientations\n",
      "\n",
      "pattern = Image.open(\"/home/dhan/Downloads/pattern2.png\")\n",
      "analyze_orientations(pattern)"
     ],
     "language": "python",
     "metadata": {},
     "outputs": []
    },
    {
     "cell_type": "code",
     "collapsed": false,
     "input": [
      "analyze_orientations(current_view)"
     ],
     "language": "python",
     "metadata": {},
     "outputs": []
    },
    {
     "cell_type": "code",
     "collapsed": false,
     "input": [],
     "language": "python",
     "metadata": {},
     "outputs": []
    }
   ],
   "metadata": {}
  }
 ]
}