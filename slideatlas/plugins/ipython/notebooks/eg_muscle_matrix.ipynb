{
 "metadata": {
  "name": "",
  "signature": "sha256:abf9204d49fafd6a14b565ae069908a90a6de533968bbfce94e0b3dc0752bb79"
 },
 "nbformat": 3,
 "nbformat_minor": 0,
 "worksheets": [
  {
   "cells": [
    {
     "cell_type": "code",
     "collapsed": false,
     "input": [
      "from PIL.Image import Image\n",
      "from ipython_slideatlas import *\n",
      "from analysis_tools import analyze_orientations"
     ],
     "language": "python",
     "metadata": {},
     "outputs": []
    },
    {
     "cell_type": "code",
     "collapsed": false,
     "input": [
      "slideatlas_load(\"http://new.slide-atlas.org/\", scale=0.5)"
     ],
     "language": "python",
     "metadata": {},
     "outputs": []
    },
    {
     "cell_type": "code",
     "collapsed": false,
     "input": [
      "analyze_orientations(current_view)"
     ],
     "language": "python",
     "metadata": {},
     "outputs": []
    },
    {
     "cell_type": "code",
     "collapsed": false,
     "input": [
      "# Sample image is saved from \n",
      "# http://cs-www.cs.yale.edu/homes/shahar/Images/Research/TextureFlow/TrickyNothdurftSquare.gif \n",
      "\n",
      "pattern = Image.open(\"/home/dhan/Downloads/pattern2.png\")\n",
      "analyze_orientations(pattern)"
     ],
     "language": "python",
     "metadata": {},
     "outputs": []
    }
   ],
   "metadata": {}
  }
 ]
}