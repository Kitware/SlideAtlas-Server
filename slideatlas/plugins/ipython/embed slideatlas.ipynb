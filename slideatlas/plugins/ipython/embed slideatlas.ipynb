{
 "metadata": {
  "name": "",
  "signature": "sha256:be0a54477224f3b0785f5bb5b678036692e0b47cc38a70c377c8779071848a12"
 },
 "nbformat": 3,
 "nbformat_minor": 0,
 "worksheets": [
  {
   "cells": [
    {
     "cell_type": "code",
     "collapsed": false,
     "input": [
      "# Helper code for iPython and SlideAtlas integration should be imported first\n",
      "\n",
      "from ipython_slideatlas import *"
     ],
     "language": "python",
     "metadata": {},
     "outputs": []
    },
    {
     "cell_type": "code",
     "collapsed": false,
     "input": [
      "# Make sure local slideatlas instance is running\n",
      "slideatlas_load(\"http://localhost:8080/\", scale=0.5)"
     ],
     "language": "python",
     "metadata": {},
     "outputs": []
    },
    {
     "cell_type": "code",
     "collapsed": false,
     "input": [
      "## Once live SlideAtlas is updated, then following can be used to load it\n",
      "#slideatlas_load(\"https://slide-atlas.org/\")\n",
      "\n",
      "## An example view can be loaded without login as follows\n",
      "#slideatlas_load(\"https://slide-atlas.org/\", view=\"example\")"
     ],
     "language": "python",
     "metadata": {},
     "outputs": []
    },
    {
     "cell_type": "code",
     "collapsed": false,
     "input": [
      "# If the update_current_view button is pressed, then the value is available in the python global variable as current_view    \n",
      "current_view"
     ],
     "language": "python",
     "metadata": {},
     "outputs": []
    }
   ],
   "metadata": {}
  }
 ]
}