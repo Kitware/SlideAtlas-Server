{
 "metadata": {
  "name": "",
  "signature": "sha256:620bd898bc94786ad0945ed72d023aab18f67f09113526b764aff4faee9fecb1"
 },
 "nbformat": 3,
 "nbformat_minor": 0,
 "worksheets": [
  {
   "cells": [
    {
     "cell_type": "code",
     "collapsed": false,
     "input": [
      "# Helper code for iPython and SlideAtlas integration should be imported first\n",
      "\n",
      "from ipython_slideatlas import *"
     ],
     "language": "python",
     "metadata": {},
     "outputs": []
    },
    {
     "cell_type": "code",
     "collapsed": false,
     "input": [
      "# Make sure local slideatlas instance is running\n",
      "slideatlas_load(\"http://localhost:8080/\")\n",
      "\n",
      "# Once live SlideAtlas is updated, then following can be used to load it\n",
      "# slideatlas_load(\"https://slide-atlas.org/\")\n"
     ],
     "language": "python",
     "metadata": {},
     "outputs": []
    },
    {
     "cell_type": "code",
     "collapsed": false,
     "input": [
      "current_view\n",
      "    \n"
     ],
     "language": "python",
     "metadata": {},
     "outputs": []
    }
   ],
   "metadata": {}
  }
 ]
}