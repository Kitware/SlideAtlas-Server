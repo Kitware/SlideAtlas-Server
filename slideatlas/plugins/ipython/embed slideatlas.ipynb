{
 "metadata": {
  "name": "",
  "signature": "sha256:d1d472037809fe12889bd216124e35c782daec1ccd63141d443a5881a1955dbd"
 },
 "nbformat": 3,
 "nbformat_minor": 0,
 "worksheets": [
  {
   "cells": [
    {
     "cell_type": "code",
     "collapsed": false,
     "input": [
      "# Helper code for iPython and SlideAtlas integration should be http://localhost:8888/notebooks/embed%20slideatlas.ipynb#\n",
      "# imported first\n",
      "\n",
      "from ipython_slideatlas import *"
     ],
     "language": "python",
     "metadata": {},
     "outputs": []
    },
    {
     "cell_type": "code",
     "collapsed": false,
     "input": [
      "# Connect with SlideAtlas\n",
      "slideatlas_load(\"http://new.slide-atlas.org/\", scale=0.6)"
     ],
     "language": "python",
     "metadata": {},
     "outputs": []
    },
    {
     "cell_type": "code",
     "collapsed": false,
     "input": [
      "## Once live SlideAtlas is updated, then following can be used to load it\n",
      "#slideatlas_load(\"https://slide-atlas.org/\")\n",
      "\n",
      "## An example view can be loaded without login as follows\n",
      "#slideatlas_load(\"https://slide-atlas.org/\", view=\"example\")"
     ],
     "language": "python",
     "metadata": {},
     "outputs": []
    },
    {
     "cell_type": "code",
     "collapsed": false,
     "input": [
      "# If the update_current_view button is pressed, then the value is available in the python global variable as current_view    \n",
      "current_view"
     ],
     "language": "python",
     "metadata": {},
     "outputs": []
    }
   ],
   "metadata": {}
  }
 ]
}