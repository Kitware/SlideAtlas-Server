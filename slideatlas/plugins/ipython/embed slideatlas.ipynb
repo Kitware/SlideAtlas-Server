{
 "metadata": {
  "name": "",
  "signature": "sha256:c618d4ebe3661be221c2026a9544fd0b3f946b699c87e7679245a9b2c75f6e3e"
 },
 "nbformat": 3,
 "nbformat_minor": 0,
 "worksheets": [
  {
   "cells": [
    {
     "cell_type": "code",
     "collapsed": false,
     "input": [
      "from IPython.display import HTML\n",
      "import time\n",
      "\n",
      "slideatlas_domain = \"http://localhost:8080/\"\n",
      "slideatlas_view = slideatlas_domain + \"webgl-viewer?db=5074589302e31023d4292d97&view=50763fab02e310163cbd059f\"\n",
      "slideatlas_iframe = '<iframe id=\"guest1\" name=\"guest1\" src=\"' + slideatlas_view + '\" width=700 height=350></iframe>'\n",
      "button = '<button onclick=\"postRequest()\"> Click Me </Button><br>'\n",
      "javascript = \"\"\"\n",
      "<script type=\"text/Javascript\">\n",
      "    console.log(\"## Send message !\");\n",
      "    function postRequest() {\n",
      "        iframewin = document.getElementById(\"guest1\").contentWindow;\n",
      "        iframewin.postMessage({\"slideatlas\" : \"some\"}, \"*\");\n",
      "    }\n",
      "</script>\n",
      "\"\"\"\n",
      "HTML(button + slideatlas_iframe + javascript)"
     ],
     "language": "python",
     "metadata": {},
     "outputs": [
      {
       "output_type": "stream",
       "stream": "stdout",
       "text": [
        "<iframe id=\"guest1\" name=\"guest1\" src=\"http://localhost:8080/webgl-viewer?db=5074589302e31023d4292d97&view=50763fab02e310163cbd059f\" width=700 height=350></iframe>\n",
        "<script type=\"text/Javascript\">\n",
        "    console.log(\"## Send message !\");\n",
        "    function postRequest() {\n",
        "        iframewin = document.getElementById(\"guest1\").contentWindow;\n",
        "        iframewin.postMessage({\"slideatlas\" : \"some\"}, \"*\");\n",
        "    }\n",
        "</script>\n",
        "\n"
       ]
      },
      {
       "html": [
        "<button onclick=\"postRequest()\"> Click Me </Button><br><iframe id=\"guest1\" name=\"guest1\" src=\"http://localhost:8080/webgl-viewer?db=5074589302e31023d4292d97&view=50763fab02e310163cbd059f\" width=700 height=350></iframe>\n",
        "<script type=\"text/Javascript\">\n",
        "    console.log(\"## Send message !\");\n",
        "    function postRequest() {\n",
        "        iframewin = document.getElementById(\"guest1\").contentWindow;\n",
        "        iframewin.postMessage({\"slideatlas\" : \"some\"}, \"*\");\n",
        "    }\n",
        "</script>\n"
       ],
       "metadata": {},
       "output_type": "pyout",
       "prompt_number": 9,
       "text": [
        "<IPython.core.display.HTML at 0x7faa09c035d0>"
       ]
      }
     ],
     "prompt_number": 9
    }
   ],
   "metadata": {}
  }
 ]
}