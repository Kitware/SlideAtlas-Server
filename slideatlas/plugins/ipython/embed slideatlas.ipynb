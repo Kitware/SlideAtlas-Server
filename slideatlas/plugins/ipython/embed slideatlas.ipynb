{
 "metadata": {
  "name": "",
  "signature": "sha256:add5b8df903387c8a21722be9c007787d86de9a2bac50c278885da14be167de6"
 },
 "nbformat": 3,
 "nbformat_minor": 0,
 "worksheets": [
  {
   "cells": [
    {
     "cell_type": "code",
     "collapsed": false,
     "input": [
      "from IPython.display import HTML\n",
      "import time\n",
      "\n",
      "slideatlas_domain = \"http://localhost:8080/\"\n",
      "slideatlas_view = slideatlas_domain + \"webgl-viewer?db=5074589302e31023d4292d97&view=50763fab02e310163cbd059f\"\n",
      "slideatlas_iframe = '<iframe id=\"guest1\" name=\"guest1\" src=\"' + slideatlas_view + '\" width=700 height=350></iframe>'\n",
      "button = '<button onclick=\"postRequest()\"> Get current view </Button><br>'\n",
      "javascript = \"\"\"\n",
      "<script type=\"text/Javascript\">\n",
      "    console.log(\"## Send message !\");\n",
      "    \n",
      "    function onMessage(messageEvent) {\n",
      "        console.log(\"IPYTHON: Message received !!\");\n",
      "        if (messageEvent.data[\"image\"]) {\n",
      "            image = messageEvent.data[\"image\"];\n",
      "            console.log(\"IPYTHON: Got image response\");\n",
      "            console.log(image);\n",
      "        }\n",
      "    }\n",
      "\n",
      "    if (window.addEventListener) {\n",
      "        // For standards-compliant web browsers\n",
      "        window.addEventListener(\"message\", onMessage, false);\n",
      "    }\n",
      "    else {\n",
      "        window.attachEvent(\"onmessage\", onMessage);\n",
      "    }\n",
      "        \n",
      "    function postRequest() {\n",
      "        iframewin = document.getElementById(\"guest1\").contentWindow;\n",
      "        iframewin.postMessage({\"slideatlas\" : \"image\"}, \"*\");\n",
      "    }\n",
      "    \n",
      "    postRequest();\n",
      "    \n",
      "</script>\n",
      "\"\"\"\n",
      "HTML(button + slideatlas_iframe + javascript)"
     ],
     "language": "python",
     "metadata": {},
     "outputs": [
      {
       "html": [
        "<button onclick=\"postRequest()\"> Get current view </Button><br><iframe id=\"guest1\" name=\"guest1\" src=\"http://localhost:8080/webgl-viewer?db=5074589302e31023d4292d97&view=50763fab02e310163cbd059f\" width=700 height=350></iframe>\n",
        "<script type=\"text/Javascript\">\n",
        "    console.log(\"## Send message !\");\n",
        "    \n",
        "    function onMessage(messageEvent) {\n",
        "        console.log(\"IPYTHON: Message received !!\");\n",
        "        if (messageEvent.data[\"image\"]) {\n",
        "            image = messageEvent.data[\"image\"];\n",
        "            console.log(\"IPYTHON: Got image response\");\n",
        "            console.log(image);\n",
        "        }\n",
        "    }\n",
        "\n",
        "    if (window.addEventListener) {\n",
        "        // For standards-compliant web browsers\n",
        "        window.addEventListener(\"message\", onMessage, false);\n",
        "    }\n",
        "    else {\n",
        "        window.attachEvent(\"onmessage\", onMessage);\n",
        "    }\n",
        "    \n",
        "    \n",
        "    function postRequest() {\n",
        "        iframewin = document.getElementById(\"guest1\").contentWindow;\n",
        "        iframewin.postMessage({\"slideatlas\" : \"image\"}, \"*\");\n",
        "    }\n",
        "    \n",
        "    postRequest();\n",
        "    \n",
        "</script>\n"
       ],
       "metadata": {},
       "output_type": "pyout",
       "prompt_number": 7,
       "text": [
        "<IPython.core.display.HTML at 0x7ff1c0107250>"
       ]
      }
     ],
     "prompt_number": 7
    }
   ],
   "metadata": {}
  }
 ]
}